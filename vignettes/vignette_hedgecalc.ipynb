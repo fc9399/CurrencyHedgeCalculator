{
 "cells": [
  {
   "cell_type": "markdown",
   "metadata": {},
   "source": [
    "# CurrencyHedgeCalculator\n",
    "\n",
    "## **Project Overview**\n",
    "\n",
    "The **MoneyMarketHedgeCalculator** is a Python package to manage foreign exchange transaction exposure using **money market hedging**. It leverages real-time data from exchange rate and interest rate APIs to calculate hedging strategies for foreign currency **Accounts Payable (AP)** and **Accounts Receivable (AR)**. \n",
    "\n",
    "Users can input transaction parameters, including **money amount**, **domestic country name**, **foreign country name**, and the package provides clear calculations and steps to construct a money market hedge decision, inclduing values like present value of transactions, necessary borrowing or investment amounts, and effective forward rates. This package simplifies hedging decisions, ensuring cost predictability and reducing the risks associated with exchange rate fluctuations.\n",
    "\n",
    "---\n",
    "\n",
    "## **Features**\n",
    "\n",
    "1. Fetches real-time **spot exchange rates** and **interest rates**.\n",
    "2. Calculates hedging strategies for:\n",
    "   - **Accounts Payable**: Borrowing in domestic currency.\n",
    "   - **Accounts Receivable**: Borrowing in foreign currency.\n",
    "3. Outputs key financial data and effective forward rates.\n",
    "4. Generates combined reports for both AP and AR.\n",
    "\n",
    "---\n",
    "\n",
    "## **Installation**\n",
    "\n",
    "Install the package:\n",
    "```bash\n",
    "pip install -i https://test.pypi.org/simple/ currencyhedgecalc\n",
    "```\n",
    "   "
   ]
  },
  {
   "cell_type": "code",
   "execution_count": null,
   "metadata": {},
   "outputs": [],
   "source": [
    "pip install -i https://test.pypi.org/simple/ currencyhedgecalc"
   ]
  },
  {
   "cell_type": "markdown",
   "metadata": {},
   "source": [
    "\n",
    "---\n",
    "\n",
    "## **Setting Up API Keys**\n",
    "\n",
    "To use this tool, you need to provide the API Key of [Exchange Rate](https://www.exchangerate-api.com/docs/overview) and [Interest Rate](https://www.api-ninjas.com/api/interestrate). You can get each API key for free through a free registration.\n",
    "\n",
    "To use the MoneyMarketHedgeCalculator package, you must set the following environment variables:\n",
    "- `EXCHANGE_RATE_API_KEY`: Your API key for the Exchange Rate API.\n",
    "- `INTEREST_RATE_API_KEY`: Your API key for the Interest Rate API.\n",
    "\n",
    "#### On Windows:\n",
    "Open the Command Prompt and run:\n",
    "```shell\n",
    "setx EXCHANGE_RATE_API_KEY \"your_exchange_rate_api_key\"\n",
    "setx INTEREST_RATE_API_KEY \"your_interest_rate_api_key\"\n",
    "```\n",
    "\n",
    "#### On macOS/Linux:\n",
    "Open the Command Prompt and run:\n",
    "```shell\n",
    "export EXCHANGE_RATE_API_KEY=\"your_exchange_rate_api_key\"\n",
    "export INTEREST_RATE_API_KEY=\"your_interest_rate_api_key\"\n",
    "```"
   ]
  },
  {
   "cell_type": "markdown",
   "metadata": {},
   "source": [
    "\n",
    "---\n",
    "\n",
    "## **Usage Guide**\n",
    "Example 1: Calculate Payable"
   ]
  },
  {
   "cell_type": "code",
   "execution_count": 4,
   "metadata": {},
   "outputs": [
    {
     "name": "stdout",
     "output_type": "stream",
     "text": [
      "Payable Calculation: {'Borrow in DC': 8964791.464597479, 'Final Owe in DC': 9390619.05916586, 'Effective Forward Rate': 9.390619059165859}\n"
     ]
    }
   ],
   "source": [
    "from currencyhedgecalc import CurrencyHedgeCalculator\n",
    "\n",
    "hedge_calculator = CurrencyHedgeCalculator()\n",
    "result = hedge_calculator.calculate_payable(\n",
    "    payable_amount_fc=1_000_000,\n",
    "    dc_country=\"UK\",\n",
    "    fc_country=\"China\"\n",
    ")\n",
    "print(\"Payable Calculation:\", result)"
   ]
  },
  {
   "cell_type": "markdown",
   "metadata": {},
   "source": [
    "Example 2: Calculate Recievable"
   ]
  },
  {
   "cell_type": "code",
   "execution_count": 6,
   "metadata": {},
   "outputs": [
    {
     "name": "stdout",
     "output_type": "stream",
     "text": [
      "Receivable Calculation: {'Borrow in FC': 103287.34438502754, 'Final Investment in FC': 106489.25206096338, 'Effective Forward Rate': 9.390619059165859}\n"
     ]
    }
   ],
   "source": [
    "result = hedge_calculator.calculate_receivable(\n",
    "    receivable_amount_dc=1_000_000,\n",
    "    dc_country=\"United Kingdom\",\n",
    "    fc_country=\"China\"\n",
    ")\n",
    "print(\"Receivable Calculation:\", result)"
   ]
  },
  {
   "cell_type": "markdown",
   "metadata": {},
   "source": [
    "Example 3: Generate Combined Report"
   ]
  },
  {
   "cell_type": "code",
   "execution_count": 5,
   "metadata": {},
   "outputs": [
    {
     "name": "stdout",
     "output_type": "stream",
     "text": [
      "\n",
      "        Key Rates:\n",
      "        - Spot exchange rate (GBP/CNY): 9.2427 (Last updated: Fri, 13 Dec 2024 00:00:01 +0000)\n",
      "        - United Kingdom interest rate: 4.75% (Last updated: 11-07-2024)\n",
      "        - China interest rate: 3.10% (Last updated: 10-21-2024)\n",
      "\n",
      "        \n",
      "        Account Payable Hedging Report:\n",
      "\n",
      "        If Account Payable is 1000000 CNY, we should\n",
      "\n",
      "        1. Borrow the United Kingdom currency (GBP) equivalent to the present value of the China currency (CNY) payable:\n",
      "        - Present Value of CNY: PV(AP_fc) = 1000000 / (1 + fc_interest_rate) = 96240.6565 CNY\n",
      "        - Borrowed Amount in GBP: Borrow Needed = PV(AP_fc) * spot_rate = 8964791.4646 GBP\n",
      "\n",
      "        2. Convert the borrowed GBP into CNY and deposit it at the China interest rate:\n",
      "        - Deposit grows to 1000000 CNY after one year.\n",
      "\n",
      "        3. Repay the United Kingdom loan with interest:\n",
      "        - Total Repayment in GBP: Final Owe = 9390619.0592 GBP\n",
      "\n",
      "        4. Effective Locked-in Forward Rate:\n",
      "        - Effective Forward Rate = Final Owe / Payable Amount = 9.3906 GBP/CNY\n",
      "\n",
      "        \n",
      "        Account Receivable Hedging Report:\n",
      "\n",
      "        If Account Receivable is 1000000 GBP, we should\n",
      "\n",
      "        1. Borrow the China currency (CNY) equivalent to the present value of the United Kingdom currency (GBP) receivable of 1000000 GBP:\n",
      "        - Present Value of GBP: PV(AR_dc) = 1000000 / (1 + dc_interest_rate) = 96240.6565 GBP\n",
      "        - Borrowed Amount in CNY: Borrow Needed = PV(AR_dc) / spot_rate = 103287.3444 CNY\n",
      "\n",
      "        2. Invest the borrowed CNY at the China interest rate:\n",
      "        - Investment grows to Final Investment = 106489.2521 CNY\n",
      "\n",
      "        3. Use the receivable 1000000 GBP to settle obligations.\n",
      "\n",
      "        4. Effective Locked-in Forward Rate:\n",
      "        - Effective Forward Rate = Receivable / Final Investment = 9.3906 GBP/CNY\n",
      "        \n"
     ]
    }
   ],
   "source": [
    "report = hedge_calculator.generate_combined_report(\n",
    "    money_amount=1_000_000,\n",
    "    dc_country=\"uk\",\n",
    "    fc_country=\"china\"\n",
    ")\n",
    "print(report)"
   ]
  },
  {
   "cell_type": "markdown",
   "metadata": {},
   "source": [
    "\n",
    "---\n",
    "\n",
    "## **Supported Countries**\n",
    "\n",
    "Since this package is entirely free, only some countries are avaliable.\n",
    "\n",
    "The following countries are supported for calculations:\n",
    "\n",
    "- China (CNY)\n",
    "- Czech Republic (CZK)\n",
    "- Denmark (DKK)\n",
    "- Mexico (MXN)\n",
    "- New Zealand (NZD)\n",
    "- Norway (NOK)\n",
    "- Poland (PLN)\n",
    "- Russia (RUB)\n",
    "- Sweden (SEK)\n",
    "- Switzerland (CHF)\n",
    "- Türkiye (TRY)\n",
    "- United Kingdom (GBP)\n",
    "\n",
    "---\n",
    "## License\n",
    "\n",
    "`currencyhedgecalc` was created by Fung Chau. It is licensed under the terms of the MIT license."
   ]
  }
 ],
 "metadata": {
  "kernelspec": {
   "display_name": "Python 3",
   "language": "python",
   "name": "python3"
  },
  "language_info": {
   "codemirror_mode": {
    "name": "ipython",
    "version": 3
   },
   "file_extension": ".py",
   "mimetype": "text/x-python",
   "name": "python",
   "nbconvert_exporter": "python",
   "pygments_lexer": "ipython3",
   "version": "3.12.5"
  }
 },
 "nbformat": 4,
 "nbformat_minor": 2
}
